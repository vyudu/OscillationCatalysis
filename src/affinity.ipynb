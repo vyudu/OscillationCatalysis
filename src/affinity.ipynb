{
 "cells": [
  {
   "cell_type": "code",
   "execution_count": null,
   "id": "dcbe42d6-ce4b-4f4f-be8f-d28cc06404fd",
   "metadata": {},
   "outputs": [],
   "source": [
    "include(\"CRNOscillation.jl\")"
   ]
  },
  {
   "cell_type": "code",
   "execution_count": 14,
   "id": "b57ff890-a249-446e-906f-12a6a8389eb2",
   "metadata": {},
   "outputs": [
    {
     "data": {
      "text/plain": [
       "Dict{SymbolicUtils.BasicSymbolic{Real}, Float64} with 12 entries:\n",
       "  k3r => 4.97871\n",
       "  f1r => 1.0\n",
       "  k2r => 4.97871\n",
       "  f2r => 1.0\n",
       "  k1r => 4.97871\n",
       "  k4  => 4.97871\n",
       "  k2  => 0.673795\n",
       "  k4r => 0.0911882\n",
       "  f1  => 10.0\n",
       "  k1  => 1.83156\n",
       "  f2  => 10.0\n",
       "  k3  => 0.673795"
      ]
     },
     "execution_count": 14,
     "metadata": {},
     "output_type": "execute_result"
    }
   ],
   "source": [
    "ls = mechanisticLandscape([1,1,1,1], 1., 1., 6.)\n",
    "k = setRateConstants(ls, autocatalysis_open, 1.)"
   ]
  },
  {
   "cell_type": "code",
   "execution_count": 18,
   "id": "5b3f10ff-22b0-4ac3-82ad-77475c1848da",
   "metadata": {},
   "outputs": [],
   "source": [
    "params, sols = volumeOscillation(autocatalysis_open, 0., 1., N0_a, k);"
   ]
  },
  {
   "cell_type": "code",
   "execution_count": 22,
   "id": "c6f046c6-a3cc-42f3-886d-23674d8e3896",
   "metadata": {},
   "outputs": [
    {
     "data": {
      "text/plain": [
       "(7.129665036603135, 9.967551477138782, 8.63680418258015)"
      ]
     },
     "execution_count": 22,
     "metadata": {},
     "output_type": "execute_result"
    }
   ],
   "source": [
    "A_l, A_h, A_a = A(sols, 0., 1., 1.)"
   ]
  },
  {
   "cell_type": "code",
   "execution_count": 13,
   "id": "b46340b1-1127-43cb-9af4-97114b0200a8",
   "metadata": {},
   "outputs": [
    {
     "data": {
      "text/plain": [
       "(-7.3527499644399086e-9, 8.233206196806009e-7, 1.9255297845077735e-7)"
      ]
     },
     "execution_count": 13,
     "metadata": {},
     "output_type": "execute_result"
    }
   ],
   "source": [
    "k = setRateConstants(ls, autocatalysis_closed, 1.)\n",
    "params, sols = volumeOscillation(autocatalysis_closed, 0., 1., N0_a, k);\n",
    "A_l, A_h, A_a = A(sols, 0., 1., 1.)"
   ]
  },
  {
   "cell_type": "code",
   "execution_count": 12,
   "id": "8ef85b60-e32e-4b19-9aae-0af4dd86b6ce",
   "metadata": {},
   "outputs": [
    {
     "data": {
      "text/plain": [
       "8-element Vector{Int64}:\n",
       " 4\n",
       " 3\n",
       " 5\n",
       " 3\n",
       " 5\n",
       " 3\n",
       " 3\n",
       " 7"
      ]
     },
     "execution_count": 12,
     "metadata": {},
     "output_type": "execute_result"
    }
   ],
   "source": [
    "ls"
   ]
  },
  {
   "cell_type": "code",
   "execution_count": 67,
   "id": "63abf5d7-4fc3-4963-9151-fc885f84a073",
   "metadata": {},
   "outputs": [
    {
     "data": {
      "text/plain": [
       "Dict{SymbolicUtils.BasicSymbolic{Real}, Float64} with 12 entries:\n",
       "  k3r => 0.0497871\n",
       "  f1r => 0.1\n",
       "  k2r => 0.0497871\n",
       "  f2r => 0.001\n",
       "  k1r => 0.0497871\n",
       "  k4  => 0.0497871\n",
       "  k2  => 0.00673795\n",
       "  k4r => 0.000911882\n",
       "  f1  => 10.0\n",
       "  k1  => 0.0183156\n",
       "  f2  => 100.0\n",
       "  k3  => 0.00673795"
      ]
     },
     "execution_count": 67,
     "metadata": {},
     "output_type": "execute_result"
    }
   ],
   "source": [
    "ls2 = mechanisticLandscape([4,0,0,0], 1., 1., 6.)\n",
    "k = setRateConstants(ls, oneStep_open, 1., f2 = 100., f2r = 0.001)"
   ]
  },
  {
   "cell_type": "code",
   "execution_count": 68,
   "id": "7f6438cf-ca16-41b5-9fe7-1957e24dca1b",
   "metadata": {},
   "outputs": [],
   "source": [
    "N0 = Dict(zip(species(oneStep_open), [1., 10., 0., 0., 0.]))\n",
    "params, sols = volumeOscillation(oneStep_open, 0., 1., N0, k);"
   ]
  },
  {
   "cell_type": "code",
   "execution_count": 69,
   "id": "c1cd8a4c-0784-4e16-bda2-ef5d442b9169",
   "metadata": {},
   "outputs": [
    {
     "data": {
      "text/plain": [
       "(-22.4305654817873, -22.436888572843007, -17.57117327164623)"
      ]
     },
     "execution_count": 69,
     "metadata": {},
     "output_type": "execute_result"
    }
   ],
   "source": [
    "A_l, A_h, A_a = A(sols, 0., 1., 3.)"
   ]
  },
  {
   "cell_type": "code",
   "execution_count": null,
   "id": "57afb648-cf81-4df8-b3af-3c0c065b91b8",
   "metadata": {},
   "outputs": [],
   "source": [
    "ode = convert(ODESystem, oneStep_open)\n",
    "prob = ODEProblem(ode, N0, (0., 100.), params[2]); sol = solve(prob, Tsit5());"
   ]
  },
  {
   "cell_type": "code",
   "execution_count": 75,
   "id": "aabd926c-77fe-49a7-a1ea-54a0f0dd01eb",
   "metadata": {},
   "outputs": [
    {
     "data": {
      "text/plain": [
       "Dict{SymbolicUtils.BasicSymbolic{Real}, Float64} with 12 entries:\n",
       "  k3r => 0.0497871\n",
       "  f1r => 0.1\n",
       "  k2r => 0.0497871\n",
       "  f2r => 0.001\n",
       "  k1r => 0.0497871\n",
       "  k4  => 0.0497871\n",
       "  k2  => 0.00673795\n",
       "  k4r => 0.00140711\n",
       "  f1  => 15.4308\n",
       "  k1  => 0.500168\n",
       "  f2  => 100.0\n",
       "  k3  => 0.00673795"
      ]
     },
     "execution_count": 75,
     "metadata": {},
     "output_type": "execute_result"
    }
   ],
   "source": [
    "Dict(zip(reactionparams(oneStep_open), params[3]))"
   ]
  },
  {
   "cell_type": "code",
   "execution_count": null,
   "id": "116f337f-8b1c-484b-b5ea-20bc99e0c546",
   "metadata": {},
   "outputs": [],
   "source": []
  }
 ],
 "metadata": {
  "kernelspec": {
   "display_name": "Julia 1.9.3",
   "language": "julia",
   "name": "julia-1.9"
  },
  "language_info": {
   "file_extension": ".jl",
   "mimetype": "application/julia",
   "name": "julia",
   "version": "1.9.3"
  }
 },
 "nbformat": 4,
 "nbformat_minor": 5
}
